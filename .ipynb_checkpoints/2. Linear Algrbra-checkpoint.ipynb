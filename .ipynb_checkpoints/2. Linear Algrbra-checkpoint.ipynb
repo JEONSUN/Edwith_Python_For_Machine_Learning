{
 "cells": [
  {
   "cell_type": "markdown",
   "metadata": {},
   "source": [
    "# Linear algebra codes\n"
   ]
  },
  {
   "cell_type": "markdown",
   "metadata": {},
   "source": [
    "## 2.1 Vector representation of Python\n",
    "\n",
    "\n",
    "- Vector를 파이썬으로 표시하는 다양한 방법 존재\n",
    "\n",
    "***\n",
    "~~~python\n",
    "vector_a = [1,2,10]   # List로 표현했을 경우\n",
    "\n",
    "\n",
    "vector_b = (1,2,10)   # Tuple로 표현했을 경우\n",
    "\n",
    "\n",
    "vector_c = {'x' : 1, 'y' : 1 , 'z' : 10}   # Dict 표현했을 경우\n",
    "\n",
    "print(vector_a,vector_b,vector_c)\n",
    "~~~\n",
    "***\n",
    "\n",
    "- 최선의 방법은 없음\n",
    "<br><br>\n",
    "- 값의 변경 유무, 속성값 유무에 따라 선택할 수 있다\n",
    "<br><br>\n",
    "- 기본적으로 list로 vector 연산 실시 할 예정 "
   ]
  },
  {
   "cell_type": "markdown",
   "metadata": {},
   "source": [
    "## 2.1.1 Vector의 계산"
   ]
  },
  {
   "cell_type": "code",
   "execution_count": 2,
   "metadata": {},
   "outputs": [
    {
     "name": "stdout",
     "output_type": "stream",
     "text": [
      "[7, 10]\n"
     ]
    }
   ],
   "source": [
    "# \n",
    "u = [2,2]\n",
    "v = [2,3]\n",
    "z = [3,5]\n",
    "result = []\n",
    "for i in range(len(u)) :\n",
    "    result.append(u[i] + v[i] + z[i])\n",
    "\n",
    "print(result)\n",
    "\n",
    "# [2,2]+[2,3]+[3,5] = [7,10]\n"
   ]
  },
  {
   "cell_type": "markdown",
   "metadata": {},
   "source": [
    "#### 위에 코드는 파이썬 답지 못하다. 더 간추릴 수가 있음."
   ]
  },
  {
   "cell_type": "code",
   "execution_count": 3,
   "metadata": {},
   "outputs": [
    {
     "name": "stdout",
     "output_type": "stream",
     "text": [
      "[7, 10]\n"
     ]
    }
   ],
   "source": [
    "u = [2,2]\n",
    "v = [2,3]\n",
    "z = [3,5]\n",
    "\n",
    "result = [sum(t) for t in zip(u,v,z)]\n",
    "print(result)"
   ]
  },
  {
   "cell_type": "markdown",
   "metadata": {},
   "source": [
    "## 2.1.2 Vector의 계산 : Scalar - Vector product"
   ]
  },
  {
   "cell_type": "code",
   "execution_count": 5,
   "metadata": {},
   "outputs": [
    {
     "name": "stdout",
     "output_type": "stream",
     "text": [
      "[10, 12, 14]\n"
     ]
    }
   ],
   "source": [
    "u = [1,2,3]\n",
    "v = [4,4,4]\n",
    "alpha = 2\n",
    "\n",
    "result = [alpha*sum(t) for t in zip(u,v)]\n",
    "print(result)\n",
    "\n",
    "# 2([1,2,3] + [4,4,4]) = 2[5,6,7] = [10,12,14]"
   ]
  },
  {
   "cell_type": "markdown",
   "metadata": {},
   "source": [
    "## 2.2 Matrix representation of Python\n",
    "\n",
    "- Matrin 역시 Python으로 표시하는 다양한 방법이 존재한다.\n",
    "\n",
    "***\n",
    "~~~python\n",
    "\n",
    "matrix_a = [[3,6],[4,5]]     # List로 표현 한 경우\n",
    "\n",
    "matrix_b = [(3,6),(4,5)]     # Tuple로 표현 한 경우\n",
    "\n",
    "matrix_c = {(0,0) : 3,(0,1) : 6,(1,0) : 4, (1,1): 5}  # dict 표현했을 경우 \n",
    "~~~\n",
    "***\n",
    "\n",
    "- 특히 dict로 표현할 때는 무궁무진한 방법이 있다.\n",
    "<br><br>\n",
    "- 기본적으로 two-dimensinal list형태로 표현함.\n",
    "<br><br>\n",
    ">- [[1번째 row]],[[2번째 row]],[[3번째 row]]"
   ]
  },
  {
   "cell_type": "markdown",
   "metadata": {},
   "source": [
    "## 2.2.1 Matrix의 계산 : Matrix addition"
   ]
  },
  {
   "cell_type": "code",
   "execution_count": 8,
   "metadata": {},
   "outputs": [
    {
     "name": "stdout",
     "output_type": "stream",
     "text": [
      "[[8, 14], [10, 12]]\n"
     ]
    }
   ],
   "source": [
    "matrix_a = [[3,6],[4,5]]     \n",
    "matrix_b = [[5,8],[6,7]] \n",
    "\n",
    "result = [[sum(row) for row in zip(*t)] for t in zip(matrix_a,matrix_b)]\n",
    "\n",
    "# 처음 zip으로 묶여 지는 값 : ([3,6],[5,8]),([4,5],[6,7])\n",
    "# 이후 각 row 더하기\n",
    "\n",
    "print(result)"
   ]
  },
  {
   "cell_type": "markdown",
   "metadata": {},
   "source": [
    "## 2.2.2 Matrix의 계산 : Matrix - Scalar product"
   ]
  },
  {
   "cell_type": "code",
   "execution_count": 9,
   "metadata": {},
   "outputs": [
    {
     "name": "stdout",
     "output_type": "stream",
     "text": [
      "[[30, 60], [40, 50]]\n"
     ]
    }
   ],
   "source": [
    "matrix_a = [[3,6],[4,5]]\n",
    "alpha = 10\n",
    "\n",
    "result = [[alpha * element for element in t] for t in matrix_a]\n",
    "\n",
    "print(result)"
   ]
  },
  {
   "cell_type": "markdown",
   "metadata": {},
   "source": [
    "## 2.2.3 Matrix의 계산 : Matrix Transpose"
   ]
  },
  {
   "cell_type": "code",
   "execution_count": 13,
   "metadata": {},
   "outputs": [
    {
     "name": "stdout",
     "output_type": "stream",
     "text": [
      "[[1, 4], [2, 5], [3, 6]]\n"
     ]
    }
   ],
   "source": [
    "# 전치 행렬\n",
    "\n",
    "matrix_a = [[1,2,3],[4,5,6]]\n",
    "\n",
    "result = [[element for element in t] for t in zip(*matrix_a)]\n",
    "\n",
    "print(result)"
   ]
  },
  {
   "cell_type": "markdown",
   "metadata": {},
   "source": [
    "## 2.2.4 Matrix의 계산 : Matrix Product"
   ]
  },
  {
   "cell_type": "code",
   "execution_count": 27,
   "metadata": {},
   "outputs": [
    {
     "name": "stdout",
     "output_type": "stream",
     "text": [
      "[[5, 8], [5, 6]]\n"
     ]
    }
   ],
   "source": [
    "matrix_a = [[1,1,2],[2,1,1]]\n",
    "matrix_b = [[1,1],[2,1],[1,3]]\n",
    "result = [[sum(a*b for a, b in zip(row_a, column_b))\n",
    "           for column_b in zip(*matrix_b)] for row_a in matrix_a]\n",
    "\n",
    "print(result)"
   ]
  },
  {
   "cell_type": "code",
   "execution_count": null,
   "metadata": {},
   "outputs": [],
   "source": []
  },
  {
   "cell_type": "code",
   "execution_count": null,
   "metadata": {},
   "outputs": [],
   "source": []
  },
  {
   "cell_type": "code",
   "execution_count": null,
   "metadata": {},
   "outputs": [],
   "source": []
  }
 ],
 "metadata": {
  "kernelspec": {
   "display_name": "Python 3",
   "language": "python",
   "name": "python3"
  },
  "language_info": {
   "codemirror_mode": {
    "name": "ipython",
    "version": 3
   },
   "file_extension": ".py",
   "mimetype": "text/x-python",
   "name": "python",
   "nbconvert_exporter": "python",
   "pygments_lexer": "ipython3",
   "version": "3.7.3"
  }
 },
 "nbformat": 4,
 "nbformat_minor": 2
}
