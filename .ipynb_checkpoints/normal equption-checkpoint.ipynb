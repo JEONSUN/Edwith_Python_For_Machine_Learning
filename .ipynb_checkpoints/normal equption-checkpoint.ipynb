{
 "cells": [
  {
   "cell_type": "code",
   "execution_count": 1,
   "metadata": {},
   "outputs": [],
   "source": [
    "import numpy as np"
   ]
  },
  {
   "cell_type": "code",
   "execution_count": 2,
   "metadata": {},
   "outputs": [],
   "source": [
    "# fit_intercept = True 절편 추가\n",
    "class LinearRegression(object) :\n",
    "    def __init(self, fit_intercept = True, copy_x = True) :\n",
    "        self.fit_intercept = fit_intercept\n",
    "        self.copy_X = copy_X\n",
    "        \n",
    "        self.coef = None\n",
    "        self._intercept = None\n",
    "        self._new_X = None\n",
    "    \n",
    "    # x의 데이터 입력시 w를 찾아냄\n",
    "    def fit(self,X,y) :\n",
    "        self._new_X = np.array(X)\n",
    "        y = y.reshape(-1,1)\n",
    "        \n",
    "        if self.fit_intercept :\n",
    "            intercept_vector = np.ones([len(self._new_X),1])\n",
    "            self._new_concatenate(\n",
    "            (intercept_vector, self._new_X),axis = 1)\n",
    "        weights = np.linalg.inv(\n",
    "                self._new_X.T.dot(self._new_X)).dot(\n",
    "                self._new_X.T.dot(y)).flatten() \n",
    "        if self.fit_intercept :\n",
    "            self._intercept = weights[0]\n",
    "            self._coef = weights[1:]\n",
    "        else :\n",
    "            self._coef = weights\n",
    "    # 새로운 x값을 넣었을때 yhat의 값을 반환\n",
    "    def predict(self,X) :\n",
    "        \n",
    "    # 회귀계수\n",
    "    def coef(self) :\n",
    "        return self._coef\n",
    "    # 절편\n",
    "    def intercept(self) :\n",
    "        return self._intercept\n",
    "    \n",
    "    "
   ]
  }
 ],
 "metadata": {
  "kernelspec": {
   "display_name": "Python 3",
   "language": "python",
   "name": "python3"
  },
  "language_info": {
   "codemirror_mode": {
    "name": "ipython",
    "version": 3
   },
   "file_extension": ".py",
   "mimetype": "text/x-python",
   "name": "python",
   "nbconvert_exporter": "python",
   "pygments_lexer": "ipython3",
   "version": "3.7.3"
  }
 },
 "nbformat": 4,
 "nbformat_minor": 2
}
