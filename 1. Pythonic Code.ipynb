{
 "cells": [
  {
   "cell_type": "markdown",
   "metadata": {},
   "source": [
    "## 예시 : 여러 단어들을 하나로 붙일 때"
   ]
  },
  {
   "cell_type": "code",
   "execution_count": 5,
   "metadata": {},
   "outputs": [
    {
     "name": "stdout",
     "output_type": "stream",
     "text": [
      "redbluegreenyellow\n"
     ]
    }
   ],
   "source": [
    "colors = ['red','blue','green','yellow']\n",
    "result = ''\n",
    "for s in colors :\n",
    "    result += s\n",
    "    \n",
    "print(result)"
   ]
  },
  {
   "cell_type": "code",
   "execution_count": 8,
   "metadata": {},
   "outputs": [
    {
     "data": {
      "text/plain": [
       "'redbluegreenyellow'"
      ]
     },
     "execution_count": 8,
     "metadata": {},
     "output_type": "execute_result"
    }
   ],
   "source": [
    "#  join을 쓰면 좀 더 쉽게 코드를 짤 수 있다.\n",
    "\n",
    "colors = ['red','blue','green','yellow']\n",
    "result = ''.join(colors)\n",
    "result"
   ]
  },
  {
   "cell_type": "markdown",
   "metadata": {},
   "source": [
    "# Pythonic Code\n",
    "\n",
    "- 파이썬 스타일의 코딩 기법\n",
    "\n",
    "\n",
    "- **파이썬 특유의 문법**을 활용하여 효율적으로 코드를 표현함\n",
    "\n",
    "\n",
    "- 고급 코드를 작성 할 수록 더 많이 필요해짐"
   ]
  },
  {
   "cell_type": "markdown",
   "metadata": {},
   "source": [
    "- Split & Join\n",
    "\n",
    "\n",
    "- List Comprehension\n",
    "\n",
    "\n",
    "- Enumerate & Zip"
   ]
  },
  {
   "cell_type": "markdown",
   "metadata": {},
   "source": [
    "# Why Pythonic Code?\n",
    "\n",
    "\n",
    "- **다른 사람들의 코드에 대한 이해도** <br>\n",
    "많은 개발자들이 Python 스타일로 코딩한다\n",
    "\n",
    "\n",
    "- **효율** <br>\n",
    "단순 for loop append보다 list가 조금 더 빠르다"
   ]
  },
  {
   "cell_type": "markdown",
   "metadata": {},
   "source": [
    "# 1.1 Split 함수\n",
    "\n",
    "- String Type의 값을 나눠서 List 형태로 변환"
   ]
  },
  {
   "cell_type": "code",
   "execution_count": 29,
   "metadata": {},
   "outputs": [
    {
     "name": "stdout",
     "output_type": "stream",
     "text": [
      "['Zero', 'one', 'two', 'three']\n"
     ]
    }
   ],
   "source": [
    "# 빈칸을 기준으로 문자열 나누기\n",
    "\n",
    "items = 'Zero one two three'.split()\n",
    "print(items)"
   ]
  },
  {
   "cell_type": "code",
   "execution_count": 30,
   "metadata": {},
   "outputs": [
    {
     "name": "stdout",
     "output_type": "stream",
     "text": [
      "python,jquery,javascript\n"
     ]
    }
   ],
   "source": [
    "# ,를 기준으로 문자열 나누기\n",
    "\n",
    "example = 'python,jquery,javascript' \n",
    "example.split(',')\n",
    "print(example)"
   ]
  },
  {
   "cell_type": "code",
   "execution_count": 31,
   "metadata": {},
   "outputs": [
    {
     "name": "stdout",
     "output_type": "stream",
     "text": [
      "python jquery javascript\n"
     ]
    }
   ],
   "source": [
    "# 리스트에 있는 각 값을 a,b,c 변수로 unpacking\n",
    "a,b,c = example.split(\",\")\n",
    "print(a,b,c)"
   ]
  },
  {
   "cell_type": "code",
   "execution_count": 33,
   "metadata": {},
   "outputs": [
    {
     "name": "stdout",
     "output_type": "stream",
     "text": [
      "cs50 study edu\n"
     ]
    }
   ],
   "source": [
    "example = 'cs50.study.edu'\n",
    "subdomain,domain,tld = example.split('.')\n",
    "print(subdomain,domain,tld)\n",
    "# \".\" 을 기준으로 문자열 나누기 -> Unpacking"
   ]
  },
  {
   "cell_type": "markdown",
   "metadata": {},
   "source": [
    "# 1.2 Join 함수\n",
    "\n",
    "- String List를 합쳐 하나의 String으로 반환할 때 사용"
   ]
  },
  {
   "cell_type": "code",
   "execution_count": 26,
   "metadata": {},
   "outputs": [
    {
     "data": {
      "text/plain": [
       "'redbluegreenyellow'"
      ]
     },
     "execution_count": 26,
     "metadata": {},
     "output_type": "execute_result"
    }
   ],
   "source": [
    "colors =['red','blue','green','yellow']\n",
    "result = ''.join(colors)\n",
    "result"
   ]
  },
  {
   "cell_type": "code",
   "execution_count": 28,
   "metadata": {},
   "outputs": [
    {
     "data": {
      "text/plain": [
       "'red blue green yellow'"
      ]
     },
     "execution_count": 28,
     "metadata": {},
     "output_type": "execute_result"
    }
   ],
   "source": [
    "# 연결 시 빈칸 1칸으로 연결\n",
    "\n",
    "result = ' '.join(colors)\n",
    "result"
   ]
  },
  {
   "cell_type": "code",
   "execution_count": 34,
   "metadata": {},
   "outputs": [
    {
     "data": {
      "text/plain": [
       "'red,blue,green,yellow'"
      ]
     },
     "execution_count": 34,
     "metadata": {},
     "output_type": "execute_result"
    }
   ],
   "source": [
    "# 연결 시 ',' 으로 연결\n",
    "\n",
    "result = ','.join(colors)\n",
    "result"
   ]
  },
  {
   "cell_type": "code",
   "execution_count": 35,
   "metadata": {},
   "outputs": [
    {
     "data": {
      "text/plain": [
       "'red-blue-green-yellow'"
      ]
     },
     "execution_count": 35,
     "metadata": {},
     "output_type": "execute_result"
    }
   ],
   "source": [
    "# 연결 시 '-' 으로 연결\n",
    "\n",
    "result = '-'.join(colors)\n",
    "result"
   ]
  },
  {
   "cell_type": "markdown",
   "metadata": {},
   "source": [
    "# 1.3 List Comprehensions\n",
    "\n",
    "- **기존 List 사용하여 간단히 다른 List를 만드는 기법**\n",
    "\n",
    "\n",
    "- 포괄적인 List, 포함되는 리스트라는 의미로 사용됨\n",
    "\n",
    "\n",
    "- 파이썬에서 가장 많이 사용되는 기법 중 하나\n",
    "\n",
    "\n",
    "- 일반적으로 for + append 보다 속도가 빠름"
   ]
  },
  {
   "cell_type": "code",
   "execution_count": 36,
   "metadata": {},
   "outputs": [
    {
     "data": {
      "text/plain": [
       "[0, 1, 2, 3, 4, 5, 6, 7, 8, 9]"
      ]
     },
     "execution_count": 36,
     "metadata": {},
     "output_type": "execute_result"
    }
   ],
   "source": [
    "# 일반적인 방법\n",
    "\n",
    "result = [] # 리스트 타입 선언\n",
    "\n",
    "for i in range(10) :\n",
    "    result.append(i)\n",
    "\n",
    "result"
   ]
  },
  {
   "cell_type": "code",
   "execution_count": 40,
   "metadata": {},
   "outputs": [
    {
     "name": "stdout",
     "output_type": "stream",
     "text": [
      "[0, 1, 2, 3, 4, 5, 6, 7, 8, 9]\n",
      "[0, 2, 4, 6, 8]\n"
     ]
    }
   ],
   "source": [
    "# List Comprehensions를 사용한 예시\n",
    "\n",
    "result = [i for i in range(10)] \n",
    "print(result)\n",
    "\n",
    "# 조건(filter)를 사용하여 새로운 list를 만듬\n",
    "result1 = [i for i in range(10) if i % 2 == 0] # 2로 나눴을 때 나머지가 0인 경우\n",
    "print(result1)"
   ]
  },
  {
   "cell_type": "code",
   "execution_count": 47,
   "metadata": {},
   "outputs": [
    {
     "name": "stdout",
     "output_type": "stream",
     "text": [
      "['Hw', 'Ho', 'Hr', 'Hl', 'Hd', 'ew', 'eo', 'er', 'el', 'ed', 'lw', 'lo', 'lr', 'll', 'ld', 'lw', 'lo', 'lr', 'll', 'ld', 'ow', 'oo', 'or', 'ol', 'od'] "
     ]
    }
   ],
   "source": [
    "word_1 = 'Hello'\n",
    "word_2 = 'world'\n",
    "\n",
    "# word_1에서 한글자, word_2에서 한글자 이후 loop후에 word_2에서 다음글자 loop\n",
    "result = [i + j for i in word_1 for j in word_2]\n",
    "\n",
    "print(result,end=\" \")"
   ]
  },
  {
   "cell_type": "code",
   "execution_count": 52,
   "metadata": {},
   "outputs": [
    {
     "name": "stdout",
     "output_type": "stream",
     "text": [
      "['AD', 'AE', 'AA', 'BD', 'BE', 'BA', 'CD', 'CE', 'CA']['AD', 'AE', 'BA', 'BD', 'BE', 'CA', 'CD', 'CE']"
     ]
    }
   ],
   "source": [
    "case_1 = ['A','B','C']\n",
    "case_2 = ['D','E','A']\n",
    "result = [i + j for i in case_1 for j in case_2]\n",
    "print(result,end=\"\")\n",
    "\n",
    "# filter : i와 j가 같다면 List에 추가하지 않음\n",
    "result1 = [i + j for i in case_1 for j in case_2 if not i==j]\n",
    "result1.sort()\n",
    "print(result1,end=\"\")"
   ]
  },
  {
   "cell_type": "code",
   "execution_count": 59,
   "metadata": {},
   "outputs": [
    {
     "name": "stdout",
     "output_type": "stream",
     "text": [
      "['Gwangmyeong', 'is', 'biggest', 'city', 'in', 'Gyeongi']\n",
      "[['GWANGMYEONG', 'gwangmyeong', 11], ['IS', 'is', 2], ['BIGGEST', 'biggest', 7], ['CITY', 'city', 4], ['IN', 'in', 2], ['GYEONGI', 'gyeongi', 7]]\n"
     ]
    }
   ],
   "source": [
    "# split + listcomprehension\n",
    "\n",
    "words = 'Gwangmyeong is biggest city in Gyeongi'.split()\n",
    "print(words)\n",
    "\n",
    "# list의 각 element들을 대문자, 소문자, 길이로 변환하여 two dimensional list로 변환\n",
    "\n",
    "result = [[w.upper(),w.lower(),len(w)] for w in words]\n",
    "print(result)"
   ]
  },
  {
   "cell_type": "code",
   "execution_count": 61,
   "metadata": {},
   "outputs": [
    {
     "name": "stdout",
     "output_type": "stream",
     "text": [
      "['GWANGMYEONG', 'gwangmyeong', 11]\n",
      "['IS', 'is', 2]\n",
      "['BIGGEST', 'biggest', 7]\n",
      "['CITY', 'city', 4]\n",
      "['IN', 'in', 2]\n",
      "['GYEONGI', 'gyeongi', 7]\n"
     ]
    }
   ],
   "source": [
    "for i in result :\n",
    "    print(i)"
   ]
  },
  {
   "cell_type": "code",
   "execution_count": 72,
   "metadata": {},
   "outputs": [
    {
     "name": "stdout",
     "output_type": "stream",
     "text": [
      "['AD', 'AE', 'AF', 'BD', 'BE', 'BF', 'CD', 'CE', 'CF']\n",
      "[['AD', 'BD', 'CD'], ['AE', 'BE', 'CE'], ['AF', 'BF', 'CF']]\n"
     ]
    }
   ],
   "source": [
    "case_1 = ['A','B','C']\n",
    "case_2 = ['D','E','F']\n",
    "\n",
    "result = [i+j for i in case_1 for j in case_2]\n",
    "print(result)\n",
    "\n",
    "# 외부의 list가 먼저 실행(외부 for문이 먼저 고정되어 있음.)\n",
    "result1 = [[i+j for i in case_1] for j in case_2]\n",
    "print(result1)"
   ]
  },
  {
   "cell_type": "markdown",
   "metadata": {},
   "source": [
    "# 1.4 Enumerate\n",
    "\n",
    "- List의 element를 추출할 때 번호를 붙여서 추출 "
   ]
  },
  {
   "cell_type": "code",
   "execution_count": 4,
   "metadata": {},
   "outputs": [
    {
     "name": "stdout",
     "output_type": "stream",
     "text": [
      "0 tic\n",
      "1 tac\n",
      "2 toe\n"
     ]
    }
   ],
   "source": [
    "for i , v in enumerate(['tic','tac','toe']) :\n",
    "    print(i,v)"
   ]
  },
  {
   "cell_type": "code",
   "execution_count": 5,
   "metadata": {},
   "outputs": [
    {
     "data": {
      "text/plain": [
       "[(0, 'a'), (1, 'b'), (2, 'c'), (3, 'd')]"
      ]
     },
     "execution_count": 5,
     "metadata": {},
     "output_type": "execute_result"
    }
   ],
   "source": [
    "# 리스트 index들에 번호가 붙어서 나온다.\n",
    "\n",
    "mylist = ['a','b','c','d']\n",
    "list(enumerate(mylist))"
   ]
  },
  {
   "cell_type": "code",
   "execution_count": 6,
   "metadata": {},
   "outputs": [
    {
     "data": {
      "text/plain": [
       "{0: 'I', 1: 'wanna', 2: 'rest', 3: 'every', 4: 'day'}"
      ]
     },
     "execution_count": 6,
     "metadata": {},
     "output_type": "execute_result"
    }
   ],
   "source": [
    "# 문장에서 각각의 단어들의 위치를 알고 싶을때 사용 할 수 있다. \n",
    "\n",
    "{i:j for i,j in enumerate('I wanna rest every day'.split())}"
   ]
  },
  {
   "cell_type": "markdown",
   "metadata": {},
   "source": [
    "# 1.4 Zip\n",
    "- 두 개의 list의 값을 병렬적으로 추출함"
   ]
  },
  {
   "cell_type": "code",
   "execution_count": 7,
   "metadata": {},
   "outputs": [
    {
     "name": "stdout",
     "output_type": "stream",
     "text": [
      "a1 b1\n",
      "b1 b2\n",
      "c1 b3\n"
     ]
    }
   ],
   "source": [
    "alist = ['a1','b1','c1']\n",
    "blist = ['b1','b2','b3']\n",
    "\n",
    "for a,b in zip(alist,blist): # 병렬적으로 추출\n",
    "    print(a,b)"
   ]
  },
  {
   "cell_type": "code",
   "execution_count": 8,
   "metadata": {},
   "outputs": [],
   "source": [
    "a,b,c = zip((1,2,3),(10,20,30),(100,200,300)) # 각 tuple의 같은 index끼리 묶음"
   ]
  },
  {
   "cell_type": "code",
   "execution_count": 10,
   "metadata": {},
   "outputs": [
    {
     "data": {
      "text/plain": [
       "[111, 222, 333]"
      ]
     },
     "execution_count": 10,
     "metadata": {},
     "output_type": "execute_result"
    }
   ],
   "source": [
    "# 각 tuple의 같은 index를 묶어 합을 list로 변환\n",
    "\n",
    "[sum(x) for x in zip((1,2,3),(10,20,30),(100,200,300)) ]"
   ]
  },
  {
   "cell_type": "markdown",
   "metadata": {},
   "source": [
    "# Enumerate & Zip"
   ]
  },
  {
   "cell_type": "code",
   "execution_count": 24,
   "metadata": {},
   "outputs": [
    {
     "name": "stdout",
     "output_type": "stream",
     "text": [
      "0 1 3\n",
      "1 2 2\n",
      "2 3 1\n"
     ]
    }
   ],
   "source": [
    "a = [1,2,3]\n",
    "b = [3,2,1]\n",
    "\n",
    "for ab,(a,b) in enumerate (zip(a,b)):  # i를 통해 0,1,2를 붙임\n",
    "    print(ab,a,b)"
   ]
  },
  {
   "cell_type": "markdown",
   "metadata": {},
   "source": [
    "# 1.5 Lambda\n",
    "\n",
    "- 함수 이름 없이, 함수처럼 쓸 수 있는 익명 함수\n",
    "\n",
    "\n",
    "- 수학의 람다 대수에서 유래함"
   ]
  },
  {
   "cell_type": "code",
   "execution_count": 25,
   "metadata": {},
   "outputs": [
    {
     "name": "stdout",
     "output_type": "stream",
     "text": [
      "5\n"
     ]
    }
   ],
   "source": [
    "# general fuction\n",
    "\n",
    "def f(x,y):\n",
    "    return x+y\n",
    "\n",
    "print(f(1,4))"
   ]
  },
  {
   "cell_type": "code",
   "execution_count": 26,
   "metadata": {},
   "outputs": [
    {
     "name": "stdout",
     "output_type": "stream",
     "text": [
      "5\n"
     ]
    }
   ],
   "source": [
    "# Lambda function\n",
    "\n",
    "f = lambda x,y : x+y\n",
    "\n",
    "print(f(1,4))"
   ]
  },
  {
   "cell_type": "markdown",
   "metadata": {},
   "source": [
    "#### python 3부터는 권장하지 않으나 여전히 많이 쓰인다.\n"
   ]
  },
  {
   "cell_type": "code",
   "execution_count": 27,
   "metadata": {},
   "outputs": [
    {
     "name": "stdout",
     "output_type": "stream",
     "text": [
      "9\n"
     ]
    }
   ],
   "source": [
    "f = lambda x : x ** 2\n",
    "\n",
    "print(f(3))"
   ]
  },
  {
   "cell_type": "code",
   "execution_count": 28,
   "metadata": {},
   "outputs": [
    {
     "name": "stdout",
     "output_type": "stream",
     "text": [
      "1.5\n"
     ]
    }
   ],
   "source": [
    "f = lambda x : x/2\n",
    "\n",
    "print(f(3))"
   ]
  },
  {
   "cell_type": "code",
   "execution_count": 29,
   "metadata": {},
   "outputs": [
    {
     "name": "stdout",
     "output_type": "stream",
     "text": [
      "6\n"
     ]
    }
   ],
   "source": [
    "print((lambda x : x + 1)(5))"
   ]
  },
  {
   "cell_type": "markdown",
   "metadata": {},
   "source": [
    "# 1.6 Map & Reduce"
   ]
  },
  {
   "cell_type": "markdown",
   "metadata": {},
   "source": [
    "## Map function\n",
    "\n",
    "- Sequence 자료형 각 element에 동일한 function을 적용함."
   ]
  },
  {
   "cell_type": "code",
   "execution_count": 34,
   "metadata": {},
   "outputs": [
    {
     "name": "stdout",
     "output_type": "stream",
     "text": [
      "[1, 4, 9, 16, 25]\n"
     ]
    }
   ],
   "source": [
    "ex = [1,2,3,4,5]\n",
    "f= lambda x: x ** 2\n",
    "\n",
    "print(list(map(f,ex))) # list를 붙여야 적용이 됨"
   ]
  },
  {
   "cell_type": "code",
   "execution_count": 37,
   "metadata": {},
   "outputs": [
    {
     "name": "stdout",
     "output_type": "stream",
     "text": [
      "[2, 4, 6, 8, 10]\n"
     ]
    }
   ],
   "source": [
    "ex = [1,2,3,4,5]\n",
    "f= lambda x,y: x + y\n",
    "\n",
    "print(list(map(f,ex,ex)))"
   ]
  },
  {
   "cell_type": "code",
   "execution_count": 35,
   "metadata": {},
   "outputs": [
    {
     "data": {
      "text/plain": [
       "[1, 4, 3, 16, 5]"
      ]
     },
     "execution_count": 35,
     "metadata": {},
     "output_type": "execute_result"
    }
   ],
   "source": [
    "ex = [1,2,3,4,5]\n",
    "list(map(\n",
    "lambda x: x ** 2 if x % 2 == 0 else x , ex)) # 만족하지 않을시 ex값 반환"
   ]
  },
  {
   "cell_type": "markdown",
   "metadata": {},
   "source": [
    "## Reduce function\n",
    "\n",
    "- map function과 달리 list에 똑같은 함수를 적용해서 통합"
   ]
  },
  {
   "cell_type": "code",
   "execution_count": 44,
   "metadata": {},
   "outputs": [
    {
     "name": "stdout",
     "output_type": "stream",
     "text": [
      "15\n"
     ]
    }
   ],
   "source": [
    "from functools import reduce\n",
    "\n",
    "print(reduce(lambda x,y : x + y, [1,2,3,4,5]))  # (1+2)+3)+4)+5) 순서대로 적용"
   ]
  },
  {
   "cell_type": "code",
   "execution_count": 45,
   "metadata": {},
   "outputs": [
    {
     "data": {
      "text/plain": [
       "120"
      ]
     },
     "execution_count": 45,
     "metadata": {},
     "output_type": "execute_result"
    }
   ],
   "source": [
    "def factorial(n) :\n",
    "    return reduce(\n",
    "        lambda x,y : x*y,range(1,n+1))\n",
    "\n",
    "factorial(5)"
   ]
  },
  {
   "cell_type": "markdown",
   "metadata": {},
   "source": [
    "# 1.7 Asterisk\n",
    "\n",
    "- 흔히 알고 있는 *를 의미함\n",
    "\n",
    "\n",
    "- 단순 곱셈, 제곱연산, 가변 인자 활용 등 다양하게 사용됨"
   ]
  },
  {
   "cell_type": "code",
   "execution_count": 47,
   "metadata": {},
   "outputs": [
    {
     "name": "stdout",
     "output_type": "stream",
     "text": [
      "1 (2, 3, 4, 5, 6)\n",
      "<class 'tuple'>\n"
     ]
    }
   ],
   "source": [
    "# args\n",
    "\n",
    "def asterisk_test(a,*args) :\n",
    "    print(a,args)\n",
    "    print(type(args))\n",
    "    \n",
    "asterisk_test(1,2,3,4,5,6) # 처음으로 들어오는 1만 a에 할당 , 나머지는 tuple 형태로 넘김"
   ]
  },
  {
   "cell_type": "code",
   "execution_count": 49,
   "metadata": {},
   "outputs": [
    {
     "name": "stdout",
     "output_type": "stream",
     "text": [
      "1 {'b': 2, 'c': 3, 'd': 4, 'e': 5, 'f': 6}\n",
      "<class 'dict'>\n"
     ]
    }
   ],
   "source": [
    "# kargs - 키워드 인자를 한번에 넘겨줄 때\n",
    "\n",
    "def asterisk_test(a,**kargs) : \n",
    "    print(a,kargs)\n",
    "    print(type(kargs))\n",
    "\n",
    "asterisk_test(1,b=2,c=3,d=4,e=5,f=6) # dict 타입으로 선언"
   ]
  },
  {
   "cell_type": "markdown",
   "metadata": {},
   "source": [
    "## Asterik - unpacking a container\n",
    "\n",
    "- tuple, dict 등 자료형에 들어가 있는 값을 unpacking\n",
    "\n",
    "\n",
    "- 함수의 입력값, zip 등에 유용하게 사용가능"
   ]
  },
  {
   "cell_type": "code",
   "execution_count": 51,
   "metadata": {},
   "outputs": [
    {
     "name": "stdout",
     "output_type": "stream",
     "text": [
      "1 (2, 3, 4, 5, 6)\n",
      "<class 'tuple'>\n"
     ]
    }
   ],
   "source": [
    "def asterisk_test(a,*args) :\n",
    "    print(a,args)\n",
    "    print(type(args))\n",
    "    \n",
    "asterisk_test(1,*(2,3,4,5,6))"
   ]
  },
  {
   "cell_type": "markdown",
   "metadata": {},
   "source": [
    "## Collections\n",
    "\n",
    "- List, Tuple, Dict에 대한 Python Built-in 확장 자료 구조(모듈)\n",
    "\n",
    "\n",
    "- 편의성, 실행 효율 등을 사용자에게 제공함\n",
    "\n",
    "\n",
    "- 아래의 모듈이 존재함"
   ]
  },
  {
   "cell_type": "code",
   "execution_count": 2,
   "metadata": {},
   "outputs": [],
   "source": [
    "from collections import deque\n",
    "from collections import Counter\n",
    "from collections import OrderedDict\n",
    "from collections import defaultdict\n",
    "from collections import namedtuple"
   ]
  },
  {
   "cell_type": "markdown",
   "metadata": {},
   "source": [
    "#### deque\n",
    "\n",
    "- Stack과 Queue를 지원하는 모듈\n",
    "\n",
    "\n",
    "- List에 비해 효율적인 자료 저장 방식을 지원함."
   ]
  },
  {
   "cell_type": "code",
   "execution_count": 3,
   "metadata": {},
   "outputs": [
    {
     "name": "stdout",
     "output_type": "stream",
     "text": [
      "deque([0, 1, 2, 3, 4])\n"
     ]
    }
   ],
   "source": [
    "from collections import deque\n",
    "\n",
    "deque_list = deque()\n",
    "for i in range(5) :\n",
    "    deque_list.append(i)\n",
    "print(deque_list)"
   ]
  },
  {
   "cell_type": "code",
   "execution_count": 4,
   "metadata": {},
   "outputs": [
    {
     "name": "stdout",
     "output_type": "stream",
     "text": [
      "deque([10, 0, 1, 2, 3, 4])\n"
     ]
    }
   ],
   "source": [
    "deque_list.appendleft(10)\n",
    "print(deque_list)"
   ]
  },
  {
   "cell_type": "markdown",
   "metadata": {},
   "source": [
    "## OrderedDict\n",
    "\n",
    "- dict와 달리, 데이터를 입력한 순서대로 dict로 변환함."
   ]
  },
  {
   "cell_type": "code",
   "execution_count": 15,
   "metadata": {},
   "outputs": [
    {
     "name": "stdout",
     "output_type": "stream",
     "text": [
      "x 100\n",
      "y 200\n",
      "z 300\n",
      "l 500\n"
     ]
    }
   ],
   "source": [
    "d = {}\n",
    "d['x'] = 100\n",
    "d['y'] = 200\n",
    "d['z'] = 300\n",
    "d['l'] = 500\n",
    "\n",
    "for k,v in d.items() :\n",
    "    print(k,v)"
   ]
  },
  {
   "cell_type": "code",
   "execution_count": 16,
   "metadata": {},
   "outputs": [
    {
     "name": "stdout",
     "output_type": "stream",
     "text": [
      "x 100\n",
      "y 200\n",
      "z 300\n",
      "l 500\n"
     ]
    }
   ],
   "source": [
    "from collections import OrderedDict\n",
    "\n",
    "d = OrderedDict()\n",
    "d['x'] = 100\n",
    "d['y'] = 200\n",
    "d['z'] = 300\n",
    "d['l'] = 500\n",
    "\n",
    "for k,v in d.items() :\n",
    "    print(k,v)"
   ]
  },
  {
   "cell_type": "markdown",
   "metadata": {},
   "source": [
    "### defaultdict\n",
    "\n",
    "- dict type의 값에 기본 값을 지정, 신규값 생성시 사용하는 방법"
   ]
  },
  {
   "cell_type": "code",
   "execution_count": 19,
   "metadata": {},
   "outputs": [
    {
     "name": "stdout",
     "output_type": "stream",
     "text": [
      "0\n"
     ]
    }
   ],
   "source": [
    "from collections import OrderedDict\n",
    "\n",
    "d = defaultdict(object)     # default dictionary를 생성\n",
    "d = defaultdict(lambda : 0) # default 값을 0으로 생성\n",
    "\n",
    "print(d['first'])"
   ]
  }
 ],
 "metadata": {
  "kernelspec": {
   "display_name": "Python 3",
   "language": "python",
   "name": "python3"
  },
  "language_info": {
   "codemirror_mode": {
    "name": "ipython",
    "version": 3
   },
   "file_extension": ".py",
   "mimetype": "text/x-python",
   "name": "python",
   "nbconvert_exporter": "python",
   "pygments_lexer": "ipython3",
   "version": "3.7.3"
  }
 },
 "nbformat": 4,
 "nbformat_minor": 2
}
