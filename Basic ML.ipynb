{
 "cells": [
  {
   "cell_type": "markdown",
   "metadata": {},
   "source": [
    "![screensh](./figure/figure2.png)"
   ]
  },
  {
   "cell_type": "markdown",
   "metadata": {},
   "source": [
    "#### 기존에 있던 데이터를 알고리즘을 사용해서 모델을 만들어 새로운 데이터에 모델을 적용시켜 예측하는 방법이다."
   ]
  },
  {
   "cell_type": "markdown",
   "metadata": {},
   "source": [
    "**y = ax + b**\n",
    "\n",
    "\n",
    "***\n",
    "y = 주어진 y값 : 종속 변수\n",
    "\n",
    "x = 주어진 x값 : 독립 변수\n",
    "\n",
    "a, b = 알고리즘을 통해 최적값을 찾는다\n",
    "\n",
    "***\n",
    "\n",
    "x 변수의 실제 데이터는 **특징(feature)**을 나타낸다."
   ]
  },
  {
   "cell_type": "markdown",
   "metadata": {},
   "source": [
    "## Feature\n",
    "\n",
    "- 머신러닝에서 데이터의 특징을 나타내는 변수\n",
    "\n",
    "- feature, 독립변수, input 변수 등은 동일의미로 사용"
   ]
  },
  {
   "cell_type": "markdown",
   "metadata": {},
   "source": [
    "## Pandas \n",
    "\n",
    "- 엑셀처럼 데이터를 호출해서 Handling하는 도구"
   ]
  }
 ],
 "metadata": {
  "kernelspec": {
   "display_name": "Python 3",
   "language": "python",
   "name": "python3"
  },
  "language_info": {
   "codemirror_mode": {
    "name": "ipython",
    "version": 3
   },
   "file_extension": ".py",
   "mimetype": "text/x-python",
   "name": "python",
   "nbconvert_exporter": "python",
   "pygments_lexer": "ipython3",
   "version": "3.7.3"
  }
 },
 "nbformat": 4,
 "nbformat_minor": 2
}
