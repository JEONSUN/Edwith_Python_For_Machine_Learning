{
 "cells": [
  {
   "cell_type": "markdown",
   "metadata": {},
   "source": [
    "## 비슷한 뉴스를 어떻게 선정할 것 인가?"
   ]
  },
  {
   "cell_type": "markdown",
   "metadata": {},
   "source": [
    "숫자로 유사하다를 표현하기 위해서는 **유사하다 = 가깝다** 라고 설명하는 것이 가장 쉬울 것이다.\n",
    "\n",
    "즉 좌표평면에서의 [2,2] 와 [1,2]의 거리는 가깝다, 유사하다라 볼 수있다."
   ]
  },
  {
   "cell_type": "markdown",
   "metadata": {},
   "source": [
    "**문자를 Vector로 바꾸기 위해선 One - hot - Encoding 개념을 사용한다.**\n",
    "\n",
    "하나의 단어를 vector로 인식하기 위해선 Vector space를 만든다.\n",
    "\n",
    "**Vector Space** : 각각의 글자들이 어떤 index를 포함하는지 정해놓은 공간. (단어가 존재할 시 1, 없으면 0)\n"
   ]
  },
  {
   "cell_type": "markdown",
   "metadata": {},
   "source": [
    "## Bag of words\n",
    "\n",
    "- 단어 별로 인덱스를 부여해서 한 문장(또는 문서)의 단어의 개수를 Vector로 표현"
   ]
  },
  {
   "cell_type": "markdown",
   "metadata": {},
   "source": []
  },
  {
   "cell_type": "markdown",
   "metadata": {},
   "source": []
  },
  {
   "cell_type": "markdown",
   "metadata": {},
   "source": []
  },
  {
   "cell_type": "markdown",
   "metadata": {},
   "source": []
  },
  {
   "cell_type": "markdown",
   "metadata": {},
   "source": []
  },
  {
   "cell_type": "markdown",
   "metadata": {},
   "source": []
  },
  {
   "cell_type": "markdown",
   "metadata": {},
   "source": []
  },
  {
   "cell_type": "markdown",
   "metadata": {},
   "source": []
  },
  {
   "cell_type": "markdown",
   "metadata": {},
   "source": []
  }
 ],
 "metadata": {
  "kernelspec": {
   "display_name": "Python 3",
   "language": "python",
   "name": "python3"
  },
  "language_info": {
   "codemirror_mode": {
    "name": "ipython",
    "version": 3
   },
   "file_extension": ".py",
   "mimetype": "text/x-python",
   "name": "python",
   "nbconvert_exporter": "python",
   "pygments_lexer": "ipython3",
   "version": "3.7.3"
  }
 },
 "nbformat": 4,
 "nbformat_minor": 2
}
