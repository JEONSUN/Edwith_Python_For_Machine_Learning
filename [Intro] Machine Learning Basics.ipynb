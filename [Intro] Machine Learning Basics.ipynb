{
 "cells": [
  {
   "cell_type": "markdown",
   "metadata": {},
   "source": [
    "# Machine Learning"
   ]
  },
  {
   "cell_type": "markdown",
   "metadata": {},
   "source": [
    "#### 1959년에 Arthur Samuel이 발견, 우리가 일일이 프로그래밍하지않고 어떤 자료에서나 현상에서 프로그램이 학습하는 능력을 의미"
   ]
  },
  {
   "cell_type": "markdown",
   "metadata": {},
   "source": [
    "# Supervised / Unsupervised learning\n",
    "\n",
    "\n",
    "- 학습하는 방법에 따라 나눠짐 \n",
    "\n",
    "\n",
    "- **Supervised learning** : 레이블들이 정해져 있는 데이터를 가지고 학습하는 것을 Supervised Learning 이라고 한다.\n",
    "\n",
    ">- Learning with labeled examples \n",
    ">>- training set \n",
    "\n",
    "- **Unsupervised learning** : 레이블을 직접 만드는 것이 아니라 데이터를 가지고 스스로 학습하는 것을 Unsupervised learning 이라고 한다.\n",
    "\n",
    ">- Un-labeled data\n",
    ">>- Google news grouping\n",
    ">>- Word clustering\n"
   ]
  },
  {
   "cell_type": "markdown",
   "metadata": {},
   "source": [
    "# Supervised learning\n",
    "\n",
    "### - ML에서의 일반적인 문제 유형\n",
    "\n",
    "***\n",
    "- Image labeling : learning from tagged images\n",
    "\n",
    "\n",
    "- Email spam filter : learning form labeled\n",
    "\n",
    "\n",
    "- Predicting exam score : learning from previous exam score and time spent\n",
    "\n",
    "***"
   ]
  },
  {
   "cell_type": "markdown",
   "metadata": {},
   "source": [
    "# Types of supervised learning\n",
    "\n",
    "- 소요 시간을 기준으로 최종 시험 점수 합격 예측\n",
    "<br>\n",
    "Regression\n",
    "<br>\n",
    "<br>\n",
    "- 소요 시간에 따른 Pass / Non-pass\n",
    "<br>\n",
    "Binary Classfication(이진 분류)\n",
    "<br>\n",
    "<br>\n",
    "- 소요 시간에 따른 학점 예측(A,B,C,D,F)\n",
    "<br>\n",
    "Multi-label classfication"
   ]
  },
  {
   "cell_type": "markdown",
   "metadata": {},
   "source": [
    "# 소요 시간을 기준으로 최종 시험 점수 합격 예측\n",
    "\n",
    "### 해당 표가 Training data set이 됨.\n",
    "\n",
    "|x(Hours)|y(score|\n",
    "|------|---|\n",
    "|10|90|\n",
    "|9|80|\n",
    "|3|50|\n",
    "|2|30|\n",
    "\n",
    "- 10시간 공부한 학생은 90점을 맞음\n",
    "\n",
    "\n",
    "- ML 모델은 Regression을 사용 -> 학습데이터를 가지고 Training 실행\n",
    "\n",
    "\n",
    "- 예를 들어 x = 7 일 경우 y 의 예측 값을 알고 싶을때 학습을 기반으로 대략 75점 정도 맞겠다. 라는 식으로 예측을 할 수 있음.  "
   ]
  },
  {
   "cell_type": "markdown",
   "metadata": {},
   "source": [
    "# 소요 시간에 따른 Pass / Non-pass\n",
    "\n",
    "|x(Hours)|y(pass/fail)|\n",
    "|------|---|\n",
    "|10|P|\n",
    "|9|P|\n",
    "|3|F|\n",
    "|2|F|\n",
    "\n",
    "\n",
    "- Pass 인지 Non pass 인지를 알고자 하므로 Classfication이 됨.\n",
    "\n",
    "\n",
    "- 두개(P/F)가지고만 예측하므로 Binary classification이라고 볼 수 있음."
   ]
  },
  {
   "cell_type": "markdown",
   "metadata": {},
   "source": [
    "# 소요 시간에 따른 학점 예측\n",
    "\n",
    "|x(Hours)|y(grade)|\n",
    "|------|---|\n",
    "|10|A|\n",
    "|9|B|\n",
    "|3|D|\n",
    "|2|F|\n",
    "\n",
    "- 학점의 형태(A,B,C,D,F)는 Multi Classification이라고 볼 수 있음.\n"
   ]
  }
 ],
 "metadata": {
  "kernelspec": {
   "display_name": "Python 3",
   "language": "python",
   "name": "python3"
  },
  "language_info": {
   "codemirror_mode": {
    "name": "ipython",
    "version": 3
   },
   "file_extension": ".py",
   "mimetype": "text/x-python",
   "name": "python",
   "nbconvert_exporter": "python",
   "pygments_lexer": "ipython3",
   "version": "3.7.3"
  }
 },
 "nbformat": 4,
 "nbformat_minor": 2
}
